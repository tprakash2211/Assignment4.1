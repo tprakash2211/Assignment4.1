{
 "cells": [
  {
   "cell_type": "code",
   "execution_count": 51,
   "metadata": {},
   "outputs": [
    {
     "name": "stdout",
     "output_type": "stream",
     "text": [
      "7.3484692283495345\n"
     ]
    }
   ],
   "source": [
    "#Assignment 4.1:\n",
    "#Problem Statement 1:\n",
    "#Write a Python Program(with class concepts) to find the area of the triangle using the below formula. area = (s*(s-a)*(s-b)*(s-c)) ** 0.5\n",
    "#Function to take the length of the sides of triangle from user should be defined in the parent class and function to calculate the area should be defined in subclass.\n",
    "\n",
    "class Assign():\n",
    "\tdef __init__(self, s, a, b, c):\n",
    "\t\tself.s = s\n",
    "\t\tself.a = a\n",
    "\t\tself.b = b\n",
    "\t\tself.c = c\n",
    "        \n",
    "class Calculate(Assign):\n",
    "\tdef __init__(self, *args):\n",
    "\t\tsuper(Calculate, self).__init__(*args)\n",
    "        \n",
    "\tdef area(self):\n",
    "        \tself.area = (self.s*(self.s-self.a)*(self.s-self.b)*(self.s-self.c))** 0.5\n",
    "        \treturn self.area\n",
    "    \n",
    "calculate = Calculate(9,8,7,6)\n",
    "print (calculate.area())"
   ]
  },
  {
   "cell_type": "code",
   "execution_count": 50,
   "metadata": {},
   "outputs": [
    {
     "name": "stdout",
     "output_type": "stream",
     "text": [
      "['python', 'programming']\n"
     ]
    }
   ],
   "source": [
    "# Problem Statement 2:\n",
    "#Write a function filter_long_words() that takes a list of words and an integer n and returns the list caof words that are longer than n.\n",
    "\n",
    "def filter_long_words(list1, n):\n",
    "    templist = []\n",
    "    for word in list1:\n",
    "        if len(word) > n:\n",
    "            templist.append(word)\n",
    "    return templist\n",
    "print (filter_long_words(['I','learn','python', 'programming'],5))"
   ]
  }
 ],
 "metadata": {
  "kernelspec": {
   "display_name": "Python 3",
   "language": "python",
   "name": "python3"
  },
  "language_info": {
   "codemirror_mode": {
    "name": "ipython",
    "version": 3
   },
   "file_extension": ".py",
   "mimetype": "text/x-python",
   "name": "python",
   "nbconvert_exporter": "python",
   "pygments_lexer": "ipython3",
   "version": "3.6.3"
  }
 },
 "nbformat": 4,
 "nbformat_minor": 2
}
